{
 "cells": [
  {
   "cell_type": "code",
   "execution_count": 1,
   "id": "6008ec05-db58-4fe0-ab74-3f281f7a8cf8",
   "metadata": {},
   "outputs": [],
   "source": [
    "import numpy as np"
   ]
  },
  {
   "cell_type": "code",
   "execution_count": 2,
   "id": "e1dff92c-32e1-440f-9194-e280cfa653b5",
   "metadata": {},
   "outputs": [],
   "source": [
    "# preds_1 = 1 epoch\n",
    "pred_coords_1 = np.load('preds_1/dMaSIF_site_1layer_15A/1A0G_B_predcoords.npy')\n",
    "pred_features_1 = np.load('preds_1/dMaSIF_site_1layer_15A/1A0G_B_predfeatures_emb1.npy')\n",
    "\n",
    "# preds_3 = 3 epoch\n",
    "pred_coords_3 = np.load('preds_3/dMaSIF_site_1layer_15A/1A0G_B_predcoords.npy')\n",
    "pred_features_3 = np.load('preds_3/dMaSIF_site_1layer_15A/1A0G_B_predfeatures_emb1.npy')\n",
    "\n",
    "# preds_5 = 5 epoch\n",
    "pred_coords_5 = np.load('preds_5/dMaSIF_site_1layer_15A/1A0G_B_predcoords.npy')\n",
    "pred_features_5 = np.load('preds_5/dMaSIF_site_1layer_15A/1A0G_B_predfeatures_emb1.npy')"
   ]
  },
  {
   "cell_type": "code",
   "execution_count": 3,
   "id": "3644a25d-c3ef-48c3-839b-07cfc9478b1c",
   "metadata": {},
   "outputs": [
    {
     "data": {
      "text/plain": [
       "(10799, 3)"
      ]
     },
     "execution_count": 3,
     "metadata": {},
     "output_type": "execute_result"
    }
   ],
   "source": [
    "# these are genereated via dMaSIF\n",
    "\n",
    "pred_coords_1.shape"
   ]
  },
  {
   "cell_type": "code",
   "execution_count": 4,
   "id": "6738172e-3e7d-43ef-9093-bdcda1b7b937",
   "metadata": {},
   "outputs": [
    {
     "data": {
      "text/plain": [
       "(array([-24.535849,  11.999021,   8.626174], dtype=float32),\n",
       " array([-24.535849,  11.999021,   8.626174], dtype=float32),\n",
       " array([-24.535849,  11.999021,   8.626174], dtype=float32))"
      ]
     },
     "execution_count": 4,
     "metadata": {},
     "output_type": "execute_result"
    }
   ],
   "source": [
    "# point cloud coords stay the same\n",
    "\n",
    "pred_coords_1[0], pred_coords_3[0], pred_coords_5[0]"
   ]
  },
  {
   "cell_type": "code",
   "execution_count": 5,
   "id": "63b5a836-fc76-469e-a739-b124c5f796d8",
   "metadata": {},
   "outputs": [
    {
     "name": "stdout",
     "output_type": "stream",
     "text": [
      "         0     0.746     0.746     0.746\n",
      "         1     0.136     0.136     0.136\n",
      "         2     0.447     0.447     0.447\n",
      "         3     0.047     0.047     0.047\n",
      "         4     0.229     0.229     0.229\n",
      "         5     0.012     0.012     0.012\n",
      "         6     0.113     0.113     0.113\n",
      "         7     0.003     0.003     0.003\n",
      "         8     0.093     0.093     0.093\n",
      "         9     0.002     0.002     0.002\n",
      "        10     2.666     2.911     3.087\n",
      "        11     3.215     2.918     1.986\n",
      "        12     0.549     0.565     1.295\n",
      "        13     2.806     3.298     2.984\n",
      "        14     0.384     0.466     1.489\n",
      "        15     3.274     2.764     1.877\n",
      "        16    -0.192     0.289    -0.376\n",
      "        17     2.284     2.468     1.899\n",
      "        18     1.737     1.233     1.272\n",
      "        19     2.075     2.291     1.888\n",
      "        20    -3.900    -4.444    -3.962\n",
      "        21     0.934     0.640     1.084\n",
      "        22     0.052     0.157    -0.162\n",
      "        23     0.222     0.406     0.858\n",
      "        24     0.407     0.540     0.430\n",
      "        25     0.000     0.000     0.000\n"
     ]
    }
   ],
   "source": [
    "for idx, (epoch_1, epoch_3, epoch_5) in enumerate(zip(pred_features_1[1], pred_features_3[1], pred_features_5[1])):\n",
    "    print(f'{idx:10d}{epoch_1:10.3f}{epoch_3:10.3f}{epoch_5:10.3f}')"
   ]
  },
  {
   "cell_type": "markdown",
   "id": "9236db29-7119-450a-a728-4f990382afc3",
   "metadata": {},
   "source": [
    "### Observation#1: chemfeats evolve during training!"
   ]
  },
  {
   "cell_type": "markdown",
   "id": "90c0de36-1ece-4c34-ad11-ffa389f62fc0",
   "metadata": {},
   "source": [
    "### Observation#2: How do reconcile the precomputed data with the point cloud data?"
   ]
  },
  {
   "cell_type": "code",
   "execution_count": 13,
   "id": "b78ac6e0-6036-4d9e-a172-afcc34af40f9",
   "metadata": {},
   "outputs": [],
   "source": [
    "# feats_1A0G_A = np.load('surface_data/raw/01-benchmark_surfaces_npy/1A0G_A_features.npy')\n",
    "atomxyz_1A0G_B = np.load('surface_data/raw/01-benchmark_surfaces_npy/1A0G_B_atomxyz.npy')\n",
    "xyz_1A0G_B = np.load('surface_data/raw/01-benchmark_surfaces_npy/1A0G_B_xyz.npy')\n",
    "feats_1A0G_B = np.load('surface_data/raw/01-benchmark_surfaces_npy/1A0G_B_features.npy')"
   ]
  },
  {
   "cell_type": "code",
   "execution_count": 14,
   "id": "c6efe062-6a3f-49ca-bc9c-445585676d3f",
   "metadata": {},
   "outputs": [
    {
     "data": {
      "text/plain": [
       "(4564, 3)"
      ]
     },
     "execution_count": 14,
     "metadata": {},
     "output_type": "execute_result"
    }
   ],
   "source": [
    "atomxyz_1A0G_B.shape"
   ]
  },
  {
   "cell_type": "code",
   "execution_count": 15,
   "id": "7c69d213-3c2b-4566-ab5b-aac7ad6fca15",
   "metadata": {},
   "outputs": [
    {
     "data": {
      "text/plain": [
       "(5852, 3)"
      ]
     },
     "execution_count": 15,
     "metadata": {},
     "output_type": "execute_result"
    }
   ],
   "source": [
    "# these look like the pre-computed vertices! How is this any different from _meshpoints.npy\n",
    "\n",
    "xyz_1A0G_B.shape"
   ]
  },
  {
   "cell_type": "code",
   "execution_count": 16,
   "id": "7a752956-097a-44b3-918d-5f05edf35353",
   "metadata": {},
   "outputs": [
    {
     "data": {
      "text/plain": [
       "(5852, 3)"
      ]
     },
     "execution_count": 16,
     "metadata": {},
     "output_type": "execute_result"
    }
   ],
   "source": [
    "feats_1A0G_B.shape"
   ]
  },
  {
   "cell_type": "code",
   "execution_count": null,
   "id": "1651d646-7677-428c-8ece-efd4d3563c9e",
   "metadata": {},
   "outputs": [],
   "source": []
  },
  {
   "cell_type": "code",
   "execution_count": null,
   "id": "b87624d5-4b78-47b1-8dcc-c6c7d2b3a9d4",
   "metadata": {},
   "outputs": [],
   "source": []
  },
  {
   "cell_type": "code",
   "execution_count": null,
   "id": "1aa64e98-7d6b-4906-873b-17823be908f8",
   "metadata": {},
   "outputs": [],
   "source": []
  },
  {
   "cell_type": "code",
   "execution_count": null,
   "id": "fcb94d28-2117-4b31-95db-577b1f06e0b6",
   "metadata": {},
   "outputs": [],
   "source": []
  }
 ],
 "metadata": {
  "kernelspec": {
   "display_name": "lambda_torch",
   "language": "python",
   "name": "lambda_torch"
  },
  "language_info": {
   "codemirror_mode": {
    "name": "ipython",
    "version": 3
   },
   "file_extension": ".py",
   "mimetype": "text/x-python",
   "name": "python",
   "nbconvert_exporter": "python",
   "pygments_lexer": "ipython3",
   "version": "3.8.10"
  }
 },
 "nbformat": 4,
 "nbformat_minor": 5
}
