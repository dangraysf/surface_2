{
 "cells": [
  {
   "cell_type": "code",
   "execution_count": 28,
   "id": "980ad1cc-7b09-4e0c-a413-5e398831ed13",
   "metadata": {},
   "outputs": [],
   "source": [
    "from pathlib import Path\n",
    "from tqdm import tqdm\n",
    "\n",
    "from plyfile import PlyData, PlyElement\n",
    "\n",
    "import numpy as np\n",
    "from scipy.spatial.distance import cdist\n",
    "\n",
    "import matplotlib.pyplot as plt"
   ]
  },
  {
   "cell_type": "code",
   "execution_count": 33,
   "id": "aec9a6c0-8ac2-4b79-ac64-6bec02164492",
   "metadata": {},
   "outputs": [],
   "source": [
    "experiment_name = 'dMaSIF_site_1layer_15A'\n",
    "datafolder = Path(f'preds_1/{experiment_name}')\n",
    "ply_data = Path('surface_data/raw/01-benchmark_surfaces/')\n",
    "pdb_list = [p.stem[:-10] for p in datafolder.glob('*pred_emb1.vtk')]"
   ]
  },
  {
   "cell_type": "code",
   "execution_count": 34,
   "id": "fa442010-90f9-4876-a3a0-4d792ebcb2ab",
   "metadata": {},
   "outputs": [],
   "source": [
    "pdb_list = pdb_list[:100]"
   ]
  },
  {
   "cell_type": "code",
   "execution_count": 35,
   "id": "6a55553b-d741-49c5-8d88-de42b2bf4e07",
   "metadata": {},
   "outputs": [
    {
     "name": "stderr",
     "output_type": "stream",
     "text": [
      "100%|██████████| 100/100 [00:13<00:00,  7.37it/s]\n"
     ]
    }
   ],
   "source": [
    "# Extract mesh from ply data\n",
    "\n",
    "n_meshpoints = []\n",
    "n_predpoints = []\n",
    "\n",
    "for pdb_id in tqdm(pdb_list):\n",
    "    predpoints = np.load(datafolder/(pdb_id+'_predcoords.npy'))\n",
    "    plydata = PlyData.read(ply_data/(pdb_id+'.ply'))\n",
    "    meshpoints = plydata['face']['vertex_indices']\n",
    "    # print(pdb_id, meshpoints.shape[0], predpoints.shape[0])\n",
    "    n_meshpoints.append(meshpoints.shape[0])\n",
    "    n_predpoints.append(predpoints.shape[0])"
   ]
  },
  {
   "cell_type": "code",
   "execution_count": 36,
   "id": "f761a0b3-efba-4008-ab59-0a6fcfce00f9",
   "metadata": {},
   "outputs": [
    {
     "data": {
      "text/plain": [
       "(7266.14, 7502.51)"
      ]
     },
     "execution_count": 36,
     "metadata": {},
     "output_type": "execute_result"
    }
   ],
   "source": [
    "np.mean(n_meshpoints), np.mean(n_predpoints)"
   ]
  },
  {
   "cell_type": "code",
   "execution_count": 21,
   "id": "0d8e5e15-b9fc-49b0-ae22-db5907bbe9d3",
   "metadata": {},
   "outputs": [
    {
     "data": {
      "image/png": "[encoded data removed]",
      "text/plain": [
       "<Figure size 640x480 with 1 Axes>"
      ]
     },
     "metadata": {},
     "output_type": "display_data"
    }
   ],
   "source": [
    "plt.scatter(n_meshpoints,n_predpoints);\n",
    "plt.xlabel('MSMS mesh number of points');\n",
    "plt.ylabel('Generated point cloud number of points');\n",
    "#plt.savefig('figures/pointsperpoint.pdf')"
   ]
  },
  {
   "cell_type": "code",
   "execution_count": null,
   "id": "a5b5dbbf-4b6c-46b3-bb14-ba3186747e93",
   "metadata": {},
   "outputs": [],
   "source": []
  },
  {
   "cell_type": "code",
   "execution_count": null,
   "id": "9bf43e26-168c-4e91-be48-194c5656d319",
   "metadata": {},
   "outputs": [],
   "source": []
  },
  {
   "cell_type": "code",
   "execution_count": null,
   "id": "412c6dbb-f010-4a3b-9572-329d968fbbb6",
   "metadata": {},
   "outputs": [],
   "source": []
  },
  {
   "cell_type": "code",
   "execution_count": null,
   "id": "4aec0790-26c5-4f08-bcbf-17ee1b6cfa43",
   "metadata": {},
   "outputs": [],
   "source": []
  },
  {
   "cell_type": "code",
   "execution_count": null,
   "id": "b2fd686f-ce5a-45c7-b91c-e4ea11a4e405",
   "metadata": {},
   "outputs": [],
   "source": []
  },
  {
   "cell_type": "code",
   "execution_count": null,
   "id": "b8a13168-1aec-43b0-87f7-c3931bb6e282",
   "metadata": {},
   "outputs": [],
   "source": [
    "# This analysis suggests that _xyz is not _meshgrid\n",
    "# _xyz, however, does have the same number of rows\n",
    "# look at ply files"
   ]
  },
  {
   "cell_type": "markdown",
   "id": "ce25140e-779c-4c03-b832-b524294d7375",
   "metadata": {},
   "source": [
    "### Look at ply files"
   ]
  },
  {
   "cell_type": "code",
   "execution_count": 8,
   "id": "4bdb3e7e-bb01-49b3-ab61-15e0907f7642",
   "metadata": {},
   "outputs": [],
   "source": [
    "from plyfile import PlyData, PlyElement"
   ]
  },
  {
   "cell_type": "code",
   "execution_count": 9,
   "id": "858ac663-d148-43cf-81d9-0a81a50f17d9",
   "metadata": {},
   "outputs": [],
   "source": [
    "plydata = PlyData.read(str('surface_data/raw/01-benchmark_surfaces/1A0G_B.ply'))"
   ]
  },
  {
   "cell_type": "code",
   "execution_count": 10,
   "id": "09507aaf-ee92-4e04-9dc1-4c60ac99101b",
   "metadata": {},
   "outputs": [
    {
     "name": "stdout",
     "output_type": "stream",
     "text": [
      "element vertex 5852\n",
      "property float x\n",
      "property float y\n",
      "property float z\n",
      "property float charge\n",
      "property float hbond\n",
      "property float hphob\n",
      "property float iface\n",
      "property float nx\n",
      "property float ny\n",
      "property float nz\n",
      "element face 11704\n",
      "property list uchar int vertex_indices\n"
     ]
    }
   ],
   "source": [
    "for n in plydata:\n",
    "    print(n)"
   ]
  },
  {
   "cell_type": "code",
   "execution_count": 11,
   "id": "ae505a98-fb12-4de9-b16b-f1d8954cf022",
   "metadata": {},
   "outputs": [
    {
     "data": {
      "text/plain": [
       "11704"
      ]
     },
     "execution_count": 11,
     "metadata": {},
     "output_type": "execute_result"
    }
   ],
   "source": [
    "# interesting!\n"
   ]
  },
  {
   "cell_type": "code",
   "execution_count": 15,
   "id": "867c81d0-d347-4318-8ed3-8e4db4b2ffe1",
   "metadata": {},
   "outputs": [
    {
     "data": {
      "text/plain": [
       "11704"
      ]
     },
     "execution_count": 15,
     "metadata": {},
     "output_type": "execute_result"
    }
   ],
   "source": [
    "len(plydata['face'].data)"
   ]
  },
  {
   "cell_type": "code",
   "execution_count": null,
   "id": "deeb2a8c-6ff5-4ec9-8f0a-646fef44234b",
   "metadata": {},
   "outputs": [],
   "source": [
    "plydata['face']['vertex_indices'][0]"
   ]
  },
  {
   "cell_type": "markdown",
   "id": "9ce6e85d-98d8-470a-aacd-3cea43243d6b",
   "metadata": {},
   "source": [
    "### Use our example PDB"
   ]
  },
  {
   "cell_type": "code",
   "execution_count": null,
   "id": "7bc69f02-a5eb-4fe6-868b-fc6d1a9f9902",
   "metadata": {},
   "outputs": [],
   "source": [
    "pdb_id = '1A0G_B'\n",
    "\n",
    "raw_data = Path('surface_data/raw/01-benchmark_surfaces_npy/')\n",
    "\n",
    "predpoints = np.load(datafolder/(pdb_id+'_predcoords.npy'))\n",
    "meshpoints = np.load(raw_data/(pdb_id+'_xyz.npy'))"
   ]
  },
  {
   "cell_type": "code",
   "execution_count": null,
   "id": "4122bebb-41c4-44dc-bf97-7ffacbfe3f8d",
   "metadata": {},
   "outputs": [],
   "source": [
    "predpoints.shape"
   ]
  },
  {
   "cell_type": "code",
   "execution_count": null,
   "id": "27becbd9-f396-41ae-b46d-e587b5d49ae0",
   "metadata": {},
   "outputs": [],
   "source": [
    "meshpoints.shape"
   ]
  },
  {
   "cell_type": "code",
   "execution_count": null,
   "id": "1754680a-5ca8-4a5d-b6d8-9a3d5e024589",
   "metadata": {},
   "outputs": [],
   "source": []
  }
 ],
 "metadata": {
  "kernelspec": {
   "display_name": "lambda_torch",
   "language": "python",
   "name": "lambda_torch"
  },
  "language_info": {
   "codemirror_mode": {
    "name": "ipython",
    "version": 3
   },
   "file_extension": ".py",
   "mimetype": "text/x-python",
   "name": "python",
   "nbconvert_exporter": "python",
   "pygments_lexer": "ipython3",
   "version": "3.8.10"
  }
 },
 "nbformat": 4,
 "nbformat_minor": 5
}
