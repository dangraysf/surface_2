{
 "cells": [
  {
   "cell_type": "markdown",
   "id": "38f7e518-ade8-473b-854a-994531ca8333",
   "metadata": {},
   "source": [
    "### Adapt analyse_output.ipynb code to start regression analysis"
   ]
  },
  {
   "cell_type": "code",
   "execution_count": 1,
   "id": "e40b39ba-5b5c-4e5f-a0ce-ddf37fd4bc39",
   "metadata": {},
   "outputs": [],
   "source": [
    "import numpy as np\n",
    "from scipy.spatial.distance import cdist\n",
    "import matplotlib.pyplot as plt\n",
    "\n",
    "from pathlib import Path\n",
    "from tqdm import tqdm"
   ]
  },
  {
   "cell_type": "markdown",
   "id": "e81455a8-4018-4f57-b71e-df596724c6b9",
   "metadata": {},
   "source": [
    "### (1) Load PDB List"
   ]
  },
  {
   "cell_type": "code",
   "execution_count": 2,
   "id": "b2a3e48b-3a6c-4b08-97fa-3ef67b66f88d",
   "metadata": {},
   "outputs": [],
   "source": [
    "experiment_name = 'dMaSIF_site_1layer_15A_meshpoints_chemfeats'\n",
    "datafolder = Path(f'preds/{experiment_name}')\n",
    "pdb_list = [p.stem[:-10] for p in datafolder.glob('*.vtk')]"
   ]
  },
  {
   "cell_type": "markdown",
   "id": "2a44d444-ad05-4a26-b7ed-a9e395a5c733",
   "metadata": {},
   "source": [
    "### (2) Grab mesh point cloud and dMaSIF point cloud\n",
    "* Focus on the number of points (row vals) of arrays [:,3]\n",
    "* Also collect min-dists for to address \"discrepancy by removing these points from our dataset as well, and only display point-to-point distances in the 99th percentile – i.e. we treat the largest 1% distances as outliers, not displayed here\" -- this is from supplemental fig 6"
   ]
  },
  {
   "cell_type": "code",
   "execution_count": 3,
   "id": "02aee786-bb40-4ab2-9f2e-6a373c297ca8",
   "metadata": {},
   "outputs": [
    {
     "name": "stderr",
     "output_type": "stream",
     "text": [
      "100%|██████████| 2617/2617 [07:00<00:00,  6.23it/s]\n"
     ]
    }
   ],
   "source": [
    "n_meshpoints = []\n",
    "n_predpoints = []\n",
    "meshpoints_mindists = []\n",
    "predpoints_mindists = []\n",
    "for pdb_id in tqdm(pdb_list):\n",
    "    predpoints = np.load(datafolder/(pdb_id+'_predcoords.npy'))\n",
    "    meshpoints = np.load(datafolder/(pdb_id+'_meshpoints.npy'))\n",
    "    n_meshpoints.append(meshpoints.shape[0])\n",
    "    n_predpoints.append(predpoints.shape[0])\n",
    "    \n",
    "    pdists = cdist(meshpoints,predpoints)\n",
    "    meshpoints_mindists.append(pdists.min(1))\n",
    "    predpoints_mindists.append(pdists.min(0))"
   ]
  },
  {
   "cell_type": "code",
   "execution_count": 4,
   "id": "14a835f4-2096-40ea-9461-f1693f677a6b",
   "metadata": {},
   "outputs": [
    {
     "name": "stdout",
     "output_type": "stream",
     "text": [
      "7662.935422239205 3200.5129292583956\n",
      "4303.286969812762 1717.8229665915399\n"
     ]
    }
   ],
   "source": [
    "print(np.mean(n_predpoints),np.std(n_predpoints))\n",
    "print(np.mean(n_meshpoints),np.std(n_meshpoints))"
   ]
  },
  {
   "cell_type": "code",
   "execution_count": 5,
   "id": "3e86e471-0b13-44ed-a933-b89ed973fc0a",
   "metadata": {},
   "outputs": [
    {
     "data": {
      "image/png": "[encoded data removed]",
      "text/plain": [
       "<Figure size 640x480 with 1 Axes>"
      ]
     },
     "metadata": {},
     "output_type": "display_data"
    }
   ],
   "source": [
    "plt.scatter(n_meshpoints,n_predpoints);\n",
    "plt.xlabel('MSMS mesh number of points');\n",
    "plt.ylabel('Generated point cloud number of points');"
   ]
  },
  {
   "cell_type": "markdown",
   "id": "dbc1bd18-b2b8-4200-9a7e-9047ed2bf3f9",
   "metadata": {},
   "source": [
    "### (3) Map meshpoints to dMaSIF point cloud to map chem_feats from mesh->new point_cloud"
   ]
  },
  {
   "cell_type": "code",
   "execution_count": 6,
   "id": "a6f13f6a-a392-41b2-ac5d-d2979ea9f763",
   "metadata": {},
   "outputs": [
    {
     "name": "stdout",
     "output_type": "stream",
     "text": [
      "1.9430606313782355\n",
      "1.1244171465407573\n"
     ]
    }
   ],
   "source": [
    "# concat list --> np.array\n",
    "\n",
    "all_meshpoints_mindists = np.concatenate(meshpoints_mindists)\n",
    "all_predpoints_mindists = np.concatenate(predpoints_mindists)\n",
    "\n",
    "# define 99% precentile (filter out 1% to remove long pdist tail\n",
    "meshpoint_percentile = np.percentile(all_meshpoints_mindists,99)\n",
    "print(meshpoint_percentile)\n",
    "predpoint_percentile = np.percentile(all_predpoints_mindists,99)\n",
    "print(predpoint_percentile)"
   ]
  },
  {
   "cell_type": "code",
   "execution_count": 7,
   "id": "9c5b580c-361e-4b15-9f28-3041f35d851f",
   "metadata": {},
   "outputs": [
    {
     "name": "stderr",
     "output_type": "stream",
     "text": [
      "100%|██████████| 2617/2617 [06:58<00:00,  6.25it/s]\n"
     ]
    }
   ],
   "source": [
    "# use the percentile scale values to generate a boolean mask for meshpoints and preppoints\n",
    "\n",
    "meshpoints_masks = []\n",
    "predpoints_masks = []\n",
    "\n",
    "for pdb_id in tqdm(pdb_list):\n",
    "    predpoints = np.load(datafolder/(pdb_id+'_predcoords.npy'))\n",
    "    meshpoints = np.load(datafolder/(pdb_id+'_meshpoints.npy'))\n",
    "\n",
    "    pdists = cdist(meshpoints,predpoints)\n",
    "    meshpoints_masks.append(pdists.min(1)<meshpoint_percentile)\n",
    "    predpoints_masks.append(pdists.min(0)<predpoint_percentile)"
   ]
  },
  {
   "cell_type": "markdown",
   "id": "e5f7086a-ed88-4a39-923c-635f533a3da1",
   "metadata": {},
   "source": [
    "### Map predpoints back to meshpoints\n",
    "* cdist for 2-D distance matrix\n",
    "* np.argmin(axis=0) to yield idx's for closest meshgrid"
   ]
  },
  {
   "cell_type": "code",
   "execution_count": 11,
   "id": "8ed0bdc4-ee24-4215-9a05-62c26f1d6115",
   "metadata": {},
   "outputs": [
    {
     "name": "stderr",
     "output_type": "stream",
     "text": [
      "100%|██████████| 2617/2617 [09:43<00:00,  4.49it/s] \n"
     ]
    }
   ],
   "source": [
    "all_pred_features = []\n",
    "all_mesh_features = []\n",
    "\n",
    "for i, pdb_id in enumerate(tqdm(pdb_list)):\n",
    "    # load data\n",
    "    predpoints = np.load(datafolder/(pdb_id+'_predcoords.npy'))\n",
    "    meshpoints = np.load(datafolder/(pdb_id+'_meshpoints.npy'))\n",
    "    \n",
    "    # filer data with boolean mask\n",
    "    predpoints = predpoints[predpoints_masks[i]]\n",
    "    meshpoints = meshpoints[meshpoints_masks[i]]\n",
    "\n",
    "    pdists = cdist(meshpoints,predpoints)\n",
    "    pdist = np.argmin(pdists,axis=0)\n",
    "\n",
    "    # get predfeatures -- \n",
    "    predpoints_features = np.load(datafolder/(pdb_id+'_predfeatures_emb1.npy'))\n",
    "    predpoints_features = predpoints_features[predpoints_masks[i]]\n",
    "\n",
    "    meshpoints_features = np.load(datafolder/(pdb_id+'_meshfeatures.npy'))\n",
    "    meshpoints_features = meshpoints_features[meshpoints_masks[i]]\n",
    "\n",
    "    all_pred_features.append(predpoints_features)\n",
    "    all_mesh_features.append(meshpoints_features[pdist])"
   ]
  },
  {
   "cell_type": "code",
   "execution_count": 17,
   "id": "f6cc9147-77c2-49c2-970f-5107fb6f8dc4",
   "metadata": {},
   "outputs": [
    {
     "name": "stdout",
     "output_type": "stream",
     "text": [
      "7285\n",
      "7285\n"
     ]
    }
   ],
   "source": [
    "print(all_pred_features[0].shape[0])\n",
    "print(all_mesh_features[0].shape[0])"
   ]
  },
  {
   "cell_type": "code",
   "execution_count": 20,
   "id": "f42f06ef-b69e-44c5-b55c-756b31b84557",
   "metadata": {},
   "outputs": [],
   "source": [
    "# save files in regression folder for auto-sklearn analysis\n",
    "outfolder = Path(\"/home/ubuntu/regress/data\")\n",
    "\n",
    "np.save(outfolder/'all_pred_features.npy', all_pred_features)\n",
    "np.save(outfolder/'all_mesh_features.npy', all_mesh_features)"
   ]
  }
 ],
 "metadata": {
  "kernelspec": {
   "display_name": "lambda_torch",
   "language": "python",
   "name": "lambda_torch"
  },
  "language_info": {
   "codemirror_mode": {
    "name": "ipython",
    "version": 3
   },
   "file_extension": ".py",
   "mimetype": "text/x-python",
   "name": "python",
   "nbconvert_exporter": "python",
   "pygments_lexer": "ipython3",
   "version": "3.8.10"
  }
 },
 "nbformat": 4,
 "nbformat_minor": 5
}
